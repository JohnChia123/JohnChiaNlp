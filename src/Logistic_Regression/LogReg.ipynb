{
 "cells": [
  {
   "cell_type": "code",
   "execution_count": 9,
   "metadata": {},
   "outputs": [
    {
     "name": "stdout",
     "output_type": "stream",
     "text": [
      "6\n",
      "Notebook directory: c:\\Users\\johnc\\Documents\\JohnChiaRepo\\JohnChiaNlp\\src\\Logistic_Regression\n"
     ]
    }
   ],
   "source": [
    "import os\n",
    "import sys\n",
    "module_path = os.path.abspath(os.path.join('..'))\n",
    "\n",
    "if module_path not in sys.path:\n",
    "    sys.path.append(module_path)\n",
    "\n",
    "import importlib \n",
    "#Dynamically import the 'utils' module\n",
    "imported_utils = importlib.import_module(\"utils\")\n",
    "imported_utils = importlib.reload(imported_utils)\n",
    "\n",
    "result = imported_utils.addOne(5)\n",
    "print(result)\n",
    "\n",
    "notebook_path = os.getcwd()\n",
    "print(\"Notebook directory:\", notebook_path)\n",
    "\n"
   ]
  }
 ],
 "metadata": {
  "kernelspec": {
   "display_name": "myenv",
   "language": "python",
   "name": "python3"
  },
  "language_info": {
   "codemirror_mode": {
    "name": "ipython",
    "version": 3
   },
   "file_extension": ".py",
   "mimetype": "text/x-python",
   "name": "python",
   "nbconvert_exporter": "python",
   "pygments_lexer": "ipython3",
   "version": "3.9.18"
  }
 },
 "nbformat": 4,
 "nbformat_minor": 2
}
