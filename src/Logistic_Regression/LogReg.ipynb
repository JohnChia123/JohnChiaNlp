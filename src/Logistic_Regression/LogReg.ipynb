{
 "cells": [
  {
   "cell_type": "code",
   "execution_count": 9,
   "metadata": {},
   "outputs": [
    {
     "name": "stdout",
     "output_type": "stream",
     "text": [
      "6\n",
      "Notebook directory: c:\\Users\\johnc\\Documents\\JohnChiaRepo\\JohnChiaNlp\\src\\Logistic_Regression\n"
     ]
    }
   ],
   "source": [
    "import os\n",
    "import sys\n",
    "module_path = os.path.abspath(os.path.join('..'))\n",
    "\n",
    "if module_path not in sys.path:\n",
    "    sys.path.append(module_path)\n",
    "\n",
    "import importlib \n",
    "#Dynamically import the 'utils' module\n",
    "imported_utils = importlib.import_module(\"utils\")\n",
    "imported_utils = importlib.reload(imported_utils)\n",
    "\n",
    "result = imported_utils.addOne(5)\n",
    "print(result)\n",
    "\n",
    "notebook_path = os.getcwd()\n",
    "print(\"Notebook directory:\", notebook_path)\n",
    "\n"
   ]
  },
  {
   "cell_type": "code",
   "execution_count": 19,
   "metadata": {},
   "outputs": [
    {
     "name": "stdout",
     "output_type": "stream",
     "text": [
      "Directory path: c:\\Users\\johnc\\Documents\\JohnChiaRepo\\JohnChiaNlp\\raw_data\n",
      "Full Train DataFrame:\n",
      "   1  \\\n",
      "0  1   \n",
      "1  1   \n",
      "2  1   \n",
      "3  1   \n",
      "4  1   \n",
      "\n",
      "  A little less than a decade ago, hockey fans were blessed with a slate of games every night, but on Thursday sources confirmed that for the ninth consecutive year NHL players have been locked out, with very slim hopes of an agreement in sight. It seems like just yesterday Martin St. Louis and his Lightning teammates were raising the Stanley Cup, high school hockey coach and onetime ESPN analyst Barry Melrose said. Obviously, Im still hoping the two sides can come together and reach an agreement, but Im starting to think nobody really misses hockey anymore. Nope. Nobody but old Barry. Id still love to catch an Atlanta Thrashers game. Observers have noted that when arena doors do reopen, the NHL will face the perhaps greater challenge of convincing fans to return to hockey instead of watching more popular sports like football, basketball, baseball, and SlamBall.   \n",
      "0  The writers of the HBO series The Sopranos too...                                                                                                                                                                                                                                                                                                                                                                                                                                                                                                                                                                                                                                                                                                                                                                                                                                                         \n",
      "1  Despite claims from the TV news outlet to offe...                                                                                                                                                                                                                                                                                                                                                                                                                                                                                                                                                                                                                                                                                                                                                                                                                                                         \n",
      "2  After receiving 'subpar' service and experienc...                                                                                                                                                                                                                                                                                                                                                                                                                                                                                                                                                                                                                                                                                                                                                                                                                                                         \n",
      "3  After watching his beloved Seattle Mariners pr...                                                                                                                                                                                                                                                                                                                                                                                                                                                                                                                                                                                                                                                                                                                                                                                                                                                         \n",
      "4  At a cafeteria-table press conference Monday, ...                                                                                                                                                                                                                                                                                                                                                                                                                                                                                                                                                                                                                                                                                                                                                                                                                                                         \n",
      "Balance Test DataFrame:\n",
      "   1  \\\n",
      "0  1   \n",
      "1  1   \n",
      "2  1   \n",
      "3  1   \n",
      "4  1   \n",
      "\n",
      "  When so many actors seem content to churn out performances for a quick paycheck, a performer who adheres to his principles really stands out. Thats why Jeff Bridges made waves this week when he announced that from now on, he will only perform nude scenes. In an interview in this months GQ, the Big Lebowski star made it clear that he was more than ready to move on to a new phase in his career, leaving his clothed roles in the past. Ive been there and Ive done that, said Bridges, rattling off a laundry list of the films hes appeared in covered up. Now, I can finally afford to only take on roles that excite me. Right now, those are roles with nude scenes. Why waste my time with anything else? Powerful. Though he made it clear that he doesnt regret his previous non-nude roles, Jeff admitted that hed always struggled with pressure from directors and studios to stay clothed on camera. No more towels; no more bathrobes; no more carefully placed plants, he added. Even if my character isnt written as nude, any director I work with will have to figure out how to make him that way. Itll be a challenge for both of us, and one I cant wait to tackle. For their part, Jeffs fans have been nothing but supportive. Wow! Whether or not you agree with him, youve got to have respect for a Hollywood star with that much conviction. You keep doing you, Jeff!   \n",
      "0   In what football insiders are calling an unex...                                                                                                                                                                                                                                                                                                                                                                                                                                                                                                                                                                                                                                                                                                                                                                                                                                                                                                                                                                                                                                                                                                                                                                                                                                                                                                                                                            \n",
      "1  In a freak accident following Game 3 of the N....                                                                                                                                                                                                                                                                                                                                                                                                                                                                                                                                                                                                                                                                                                                                                                                                                                                                                                                                                                                                                                                                                                                                                                                                                                                                                                                                                            \n",
      "2  North Koreas official news agency announced to...                                                                                                                                                                                                                                                                                                                                                                                                                                                                                                                                                                                                                                                                                                                                                                                                                                                                                                                                                                                                                                                                                                                                                                                                                                                                                                                                                            \n",
      "3  The former Alaska Governor Sarah Palin would b...                                                                                                                                                                                                                                                                                                                                                                                                                                                                                                                                                                                                                                                                                                                                                                                                                                                                                                                                                                                                                                                                                                                                                                                                                                                                                                                                                            \n",
      "4  With the first Presidential debate just two da...                                                                                                                                                                                                                                                                                                                                                                                                                                                                                                                                                                                                                                                                                                                                                                                                                                                                                                                                                                                                                                                                                                                                                                                                                                                                                                                                                            \n"
     ]
    }
   ],
   "source": [
    "import pandas as pd\n",
    "\n",
    "# Set the directory path to the location of your CSV files\n",
    "dir_path = os.path.abspath('../../raw_data')  # Moves up from Logistic_Regression to src to JohnChiaNlp, then to raw_data\n",
    "print(\"Directory path:\", dir_path)\n",
    "\n",
    "# Read the 'fulltrain.csv' file\n",
    "fulltrain_df = pd.read_csv(os.path.join(dir_path, 'fulltrain.csv'))\n",
    "print('Full Train DataFrame:')\n",
    "print(fulltrain_df.head())  # Display the first few rows to verify the contents\n",
    "\n",
    "# Read the 'balancetest.csv' file\n",
    "balancetest_df = pd.read_csv(os.path.join(dir_path, 'balancedtest.csv'))\n",
    "print('Balance Test DataFrame:')\n",
    "print(balancetest_df.head())  # Display the first few rows to verify the contents\n",
    "\n"
   ]
  }
 ],
 "metadata": {
  "kernelspec": {
   "display_name": "myenv",
   "language": "python",
   "name": "python3"
  },
  "language_info": {
   "codemirror_mode": {
    "name": "ipython",
    "version": 3
   },
   "file_extension": ".py",
   "mimetype": "text/x-python",
   "name": "python",
   "nbconvert_exporter": "python",
   "pygments_lexer": "ipython3",
   "version": "3.9.18"
  }
 },
 "nbformat": 4,
 "nbformat_minor": 2
}
