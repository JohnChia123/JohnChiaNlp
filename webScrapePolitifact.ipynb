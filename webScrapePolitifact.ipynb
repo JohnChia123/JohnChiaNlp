{
 "cells": [
  {
   "cell_type": "code",
   "execution_count": 1,
   "metadata": {},
   "outputs": [],
   "source": [
    "#Import necessary libraries\n",
    "from bs4 import BeautifulSoup\n",
    "import pandas as pd\n",
    "import requests"
   ]
  },
  {
   "cell_type": "code",
   "execution_count": 3,
   "metadata": {},
   "outputs": [],
   "source": [
    "import requests\n",
    "from bs4 import BeautifulSoup\n",
    "import pandas as pd\n",
    "\n",
    "# Function to scrape Politifact website\n",
    "def scrape_politifact(page_number):\n",
    "    URL = 'https://www.politifact.com/factchecks/list/?page={}'.format(page_number)\n",
    "    webpage = requests.get(URL)\n",
    "    soup = BeautifulSoup(webpage.text, \"html.parser\")\n",
    "    statement_footer = soup.find_all('footer', attrs={'class': 'm-statement__footer'})\n",
    "    statement_quote = soup.find_all('div', attrs={'class': 'm-statement__quote'})\n",
    "    statement_meta = soup.find_all('div', attrs={'class': 'm-statement__meta'})\n",
    "    target = soup.find_all('div', attrs={'class': 'm-statement__meter'})\n",
    "\n",
    "    # Loop through the data and extract relevant information\n",
    "    for i in range(len(statement_footer)):\n",
    "        link1 = statement_footer[i].text.strip().split()\n",
    "        if len(link1) >= 4:  # Ensuring array index existence\n",
    "            first_name = link1[1]\n",
    "            last_name = link1[2]\n",
    "            full_name = first_name + ' ' + last_name\n",
    "            date = ' '.join(link1[4:])\n",
    "            authors.append(full_name)\n",
    "            dates.append(date)\n",
    "\n",
    "            link2 = statement_quote[i].find_all('a')\n",
    "            statements.append(link2[0].text.strip())\n",
    "\n",
    "            link3 = statement_meta[i].find_all('a')\n",
    "            sources.append(link3[0].text.strip())\n",
    "\n",
    "            fact = target[i].find('div', attrs={'class': 'c-image'}).find('img').get('alt')\n",
    "            targets.append(fact)\n",
    "\n",
    "# Create lists to store scraped data\n",
    "authors = []\n",
    "dates = []\n",
    "statements = []\n",
    "sources = []\n",
    "targets = []\n",
    "\n",
    "# Determine the number of pages to scrape\n",
    "initial_page = requests.get(\"https://www.politifact.com/factchecks/list/\")\n",
    "initial_soup = BeautifulSoup(initial_page.text, \"html.parser\")\n",
    "# Look for pagination details dynamically, or set a high number and handle empty responses\n",
    "num_pages = 100  # Example: set a high number or determine dynamically\n",
    "\n",
    "# Loop through 'n' webpages to scrape data\n",
    "for i in range(1, num_pages + 1):\n",
    "    scrape_politifact(i)\n",
    "\n",
    "# Create a DataFrame\n",
    "data = pd.DataFrame({\n",
    "    'author': authors,\n",
    "    'statement': statements,\n",
    "    'source': sources,\n",
    "    'date': dates,\n",
    "    'target': targets\n",
    "})\n",
    "\n",
    "# Export the data to a CSV file\n",
    "data.to_csv('politifact_statements.csv', index=False)\n"
   ]
  }
 ],
 "metadata": {
  "kernelspec": {
   "display_name": "myenv",
   "language": "python",
   "name": "python3"
  },
  "language_info": {
   "codemirror_mode": {
    "name": "ipython",
    "version": 3
   },
   "file_extension": ".py",
   "mimetype": "text/x-python",
   "name": "python",
   "nbconvert_exporter": "python",
   "pygments_lexer": "ipython3",
   "version": "3.9.18"
  }
 },
 "nbformat": 4,
 "nbformat_minor": 2
}
